{
 "cells": [
  {
   "cell_type": "markdown",
   "id": "d7dea44b",
   "metadata": {},
   "source": [
    "Check the case_study_gnod.md file."
   ]
  },
  {
   "cell_type": "code",
   "execution_count": 1,
   "id": "6dae0be1",
   "metadata": {},
   "outputs": [],
   "source": [
    "# import libraries\n",
    "from bs4 import BeautifulSoup\n",
    "import requests"
   ]
  },
  {
   "cell_type": "markdown",
   "id": "98ad205e",
   "metadata": {},
   "source": [
    "Top 100 songs with the respective artists, put the information into a pandas dataframe, and save the dataframe in a csv file in the current folder."
   ]
  },
  {
   "cell_type": "code",
   "execution_count": 2,
   "id": "25d46783",
   "metadata": {},
   "outputs": [],
   "source": [
    "import pandas as pd\n",
    "def scrape_hot100(url):\n",
    "    '''inputs the url of website of songs\n",
    "    output a dataframe of song name and artists name \n",
    "    \n",
    "    '''\n",
    "    # url of page download \n",
    "    song_list= []\n",
    "    artists_name = []\n",
    "    response = requests.get(url)\n",
    "    if response.status_code == 200:\n",
    "        soup = BeautifulSoup(response.content, \"html.parser\")\n",
    "# Find all the elements that contain the song titles\n",
    "        elements = soup.select('li h3#title-of-a-story.c-title')\n",
    "\n",
    "# Extract and print only the song titles\n",
    "        for element in elements:\n",
    "            song_list.append(element.text.strip())\n",
    "   # Find all the elements that contain the song titles\n",
    "            elements = soup.select('li h3#title-of-a-story.c-title + span')\n",
    "\n",
    "# Extract and print only the song tjitles\n",
    "        for element in elements:\n",
    "    # Check if the text starts with a whitespace and skip those lines\n",
    "            artists_name.append(element.text.strip())\n",
    "        \n",
    "    top_100 = pd.DataFrame({\"Songs\": song_list, \"Artists\": artists_name})  \n",
    "    \n",
    "    return top_100"
   ]
  },
  {
   "cell_type": "code",
   "execution_count": 3,
   "id": "1de29560",
   "metadata": {},
   "outputs": [
    {
     "data": {
      "text/html": [
       "<div>\n",
       "<style scoped>\n",
       "    .dataframe tbody tr th:only-of-type {\n",
       "        vertical-align: middle;\n",
       "    }\n",
       "\n",
       "    .dataframe tbody tr th {\n",
       "        vertical-align: top;\n",
       "    }\n",
       "\n",
       "    .dataframe thead th {\n",
       "        text-align: right;\n",
       "    }\n",
       "</style>\n",
       "<table border=\"1\" class=\"dataframe\">\n",
       "  <thead>\n",
       "    <tr style=\"text-align: right;\">\n",
       "      <th></th>\n",
       "      <th>Songs</th>\n",
       "      <th>Artists</th>\n",
       "    </tr>\n",
       "  </thead>\n",
       "  <tbody>\n",
       "    <tr>\n",
       "      <th>0</th>\n",
       "      <td>Paint The Town Red</td>\n",
       "      <td>Doja Cat</td>\n",
       "    </tr>\n",
       "    <tr>\n",
       "      <th>1</th>\n",
       "      <td>Snooze</td>\n",
       "      <td>SZA</td>\n",
       "    </tr>\n",
       "    <tr>\n",
       "      <th>2</th>\n",
       "      <td>Fast Car</td>\n",
       "      <td>Luke Combs</td>\n",
       "    </tr>\n",
       "    <tr>\n",
       "      <th>3</th>\n",
       "      <td>Cruel Summer</td>\n",
       "      <td>Taylor Swift</td>\n",
       "    </tr>\n",
       "    <tr>\n",
       "      <th>4</th>\n",
       "      <td>I Remember Everything</td>\n",
       "      <td>Zach Bryan Featuring Kacey Musgraves</td>\n",
       "    </tr>\n",
       "    <tr>\n",
       "      <th>...</th>\n",
       "      <td>...</td>\n",
       "      <td>...</td>\n",
       "    </tr>\n",
       "    <tr>\n",
       "      <th>95</th>\n",
       "      <td>Standing Room Only</td>\n",
       "      <td>Tim McGraw</td>\n",
       "    </tr>\n",
       "    <tr>\n",
       "      <th>96</th>\n",
       "      <td>Checkmate</td>\n",
       "      <td>Rod Wave</td>\n",
       "    </tr>\n",
       "    <tr>\n",
       "      <th>97</th>\n",
       "      <td>Can't Have Mine</td>\n",
       "      <td>Dylan Scott</td>\n",
       "    </tr>\n",
       "    <tr>\n",
       "      <th>98</th>\n",
       "      <td>On My Mama</td>\n",
       "      <td>Victoria Monet</td>\n",
       "    </tr>\n",
       "    <tr>\n",
       "      <th>99</th>\n",
       "      <td>Love Is Embarrassing</td>\n",
       "      <td>Olivia Rodrigo</td>\n",
       "    </tr>\n",
       "  </tbody>\n",
       "</table>\n",
       "<p>100 rows × 2 columns</p>\n",
       "</div>"
      ],
      "text/plain": [
       "                    Songs                               Artists\n",
       "0      Paint The Town Red                              Doja Cat\n",
       "1                  Snooze                                   SZA\n",
       "2                Fast Car                            Luke Combs\n",
       "3            Cruel Summer                          Taylor Swift\n",
       "4   I Remember Everything  Zach Bryan Featuring Kacey Musgraves\n",
       "..                    ...                                   ...\n",
       "95     Standing Room Only                            Tim McGraw\n",
       "96              Checkmate                              Rod Wave\n",
       "97        Can't Have Mine                           Dylan Scott\n",
       "98             On My Mama                        Victoria Monet\n",
       "99   Love Is Embarrassing                        Olivia Rodrigo\n",
       "\n",
       "[100 rows x 2 columns]"
      ]
     },
     "execution_count": 3,
     "metadata": {},
     "output_type": "execute_result"
    }
   ],
   "source": [
    "top_100 = scrape_hot100(\"https://www.billboard.com/charts/hot-100\")\n",
    "top_100"
   ]
  },
  {
   "cell_type": "code",
   "execution_count": 4,
   "id": "bf38380a",
   "metadata": {},
   "outputs": [],
   "source": [
    "top_100.to_csv(r\"./lab-web-scraping-single-page.csv\", index=False) \n",
    "#http://localhost:8888/notebooks/Desktop/Ironhack/Week_6/Day_1/Morning/lab-web-scraping-single-page/Untitled.ipynb"
   ]
  },
  {
   "cell_type": "code",
   "execution_count": null,
   "id": "255dff3b",
   "metadata": {},
   "outputs": [],
   "source": []
  }
 ],
 "metadata": {
  "kernelspec": {
   "display_name": "Python 3 (ipykernel)",
   "language": "python",
   "name": "python3"
  },
  "language_info": {
   "codemirror_mode": {
    "name": "ipython",
    "version": 3
   },
   "file_extension": ".py",
   "mimetype": "text/x-python",
   "name": "python",
   "nbconvert_exporter": "python",
   "pygments_lexer": "ipython3",
   "version": "3.10.9"
  }
 },
 "nbformat": 4,
 "nbformat_minor": 5
}
